{
 "cells": [
  {
   "cell_type": "code",
   "execution_count": 1,
   "id": "79d83b7f",
   "metadata": {},
   "outputs": [
    {
     "name": "stdout",
     "output_type": "stream",
     "text": [
      "<selenium.webdriver.remote.webelement.WebElement (session=\"439d7bda0c1e13ee5322f62a9f306001\", element=\"f.CB3DBA797D623C4999AABE81BF251A82.d.30E1650F9269BD4D3D93FBB1BC2C1ACF.e.59\")> Inbox (7)\n"
     ]
    }
   ],
   "source": [
    "from selenium import webdriver\n",
    "from time import sleep\n",
    "import inspect\n",
    "from selenium.webdriver.common.by import By\n",
    "password = 'B17dccn160!@'\n",
    "\n",
    "\n",
    "\n",
    "tkhoan = 'C:\\\\Users\\\\VTS-BANGNA1\\\\Desktop\\\\python\\\\selenium\\\\tk'\n",
    "link = 'https://mail.viettel.com.vn/?loginOp=logout'\n",
    "\n",
    "# print(inspect.getsource(webdriver))\n",
    "chrome_option = webdriver.ChromeOptions()\n",
    "chrome_option.add_argument(\"user-data-dir=\"+tkhoan)\n",
    "# print(inspect.getsource(webdriver.Chrome))\n",
    "driver = webdriver.Chrome()\n",
    "driver.get(link)\n",
    "sleep(2)\n",
    "try:\n",
    "    driver.find_element(By.ID,'username').send_keys('dungnt252@viettel.com.vn')\n",
    "    sleep(2)\n",
    "    driver.find_element(By.ID,'password').send_keys(password)\n",
    "    sleep(2)\n",
    "    driver.find_element(By.XPATH,'/html/body/div/div[1]/div[1]/form/table/tbody/tr[6]/td/input').click()\n",
    "    sleep(2)\n",
    "    testValue = driver.find_element(By.XPATH,'/html/body/div[4]/div[19]/div[6]/div/div[1]/div[2]/div[1]/div/table/tbody/tr/td[3]/span')\n",
    "    print(testValue,testValue.text)\n",
    "except:\n",
    "    print('loi')\n",
    "    pass\n",
    "\n",
    "sleep(5)"
   ]
  },
  {
   "cell_type": "code",
   "execution_count": null,
   "id": "89555e33-da49-4ce8-b2ac-6ed7631ad439",
   "metadata": {},
   "outputs": [],
   "source": []
  }
 ],
 "metadata": {
  "kernelspec": {
   "display_name": "dungnt252",
   "language": "python",
   "name": "dungnt252"
  },
  "language_info": {
   "codemirror_mode": {
    "name": "ipython",
    "version": 3
   },
   "file_extension": ".py",
   "mimetype": "text/x-python",
   "name": "python",
   "nbconvert_exporter": "python",
   "pygments_lexer": "ipython3",
   "version": "3.11.7"
  }
 },
 "nbformat": 4,
 "nbformat_minor": 5
}
