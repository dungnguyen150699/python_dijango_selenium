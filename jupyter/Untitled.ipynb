{
 "cells": [
  {
   "cell_type": "code",
   "execution_count": 9,
   "id": "6f25558b",
   "metadata": {},
   "outputs": [
    {
     "name": "stdout",
     "output_type": "stream",
     "text": [
      "The youngest child is Linus\n",
      "Emil,Tobias,Linus\n"
     ]
    }
   ],
   "source": [
    "def my_function(*kids):\n",
    "    lengthKids = len(kids)\n",
    "    print(\"The youngest child is \" + kids[2])\n",
    "    for i in range(lengthKids):\n",
    "        if i!=lengthKids-1:\n",
    "            print(kids[i],end=\",\")\n",
    "        else:\n",
    "            print(kids[i])\n",
    "my_function(\"Emil\", \"Tobias\", \"Linus\")"
   ]
  },
  {
   "cell_type": "code",
   "execution_count": 3,
   "id": "c8f30c3d",
   "metadata": {},
   "outputs": [
    {
     "name": "stdout",
     "output_type": "stream",
     "text": [
      "ModeResult(mode=86, count=3)\n",
      "<class 'scipy.stats._stats_py.ModeResult'>\n"
     ]
    }
   ],
   "source": [
    "from scipy import stats\n",
    "\n",
    "speed = [99,86,87,88,111,86,103,87,94,78,77,85,86]\n",
    "\n",
    "x = stats.mode(speed)\n",
    "\n",
    "print(x)\n",
    "print(type(x))"
   ]
  },
  {
   "cell_type": "code",
   "execution_count": 5,
   "id": "75feba38",
   "metadata": {},
   "outputs": [
    {
     "name": "stdout",
     "output_type": "stream",
     "text": [
      "Help on function mode in module scipy.stats._stats_py:\n",
      "\n",
      "mode(a, axis=0, nan_policy='propagate', keepdims=False)\n",
      "    Return an array of the modal (most common) value in the passed array.\n",
      "    \n",
      "    If there is more than one such value, only one is returned.\n",
      "    The bin-count for the modal bins is also returned.\n",
      "    \n",
      "    Parameters\n",
      "    ----------\n",
      "    a : array_like\n",
      "        Numeric, n-dimensional array of which to find mode(s).\n",
      "    axis : int or None, default: 0\n",
      "        If an int, the axis of the input along which to compute the statistic.\n",
      "        The statistic of each axis-slice (e.g. row) of the input will appear in a\n",
      "        corresponding element of the output.\n",
      "        If ``None``, the input will be raveled before computing the statistic.\n",
      "    nan_policy : {'propagate', 'omit', 'raise'}\n",
      "        Defines how to handle input NaNs.\n",
      "        \n",
      "        - ``propagate``: if a NaN is present in the axis slice (e.g. row) along\n",
      "          which the  statistic is computed, the corresponding entry of the output\n",
      "          will be NaN.\n",
      "        - ``omit``: NaNs will be omitted when performing the calculation.\n",
      "          If insufficient data remains in the axis slice along which the\n",
      "          statistic is computed, the corresponding entry of the output will be\n",
      "          NaN.\n",
      "        - ``raise``: if a NaN is present, a ``ValueError`` will be raised.\n",
      "    keepdims : bool, default: False\n",
      "        If this is set to True, the axes which are reduced are left\n",
      "        in the result as dimensions with size one. With this option,\n",
      "        the result will broadcast correctly against the input array.\n",
      "    \n",
      "    Returns\n",
      "    -------\n",
      "    mode : ndarray\n",
      "        Array of modal values.\n",
      "    count : ndarray\n",
      "        Array of counts for each mode.\n",
      "    \n",
      "    Notes\n",
      "    -----\n",
      "    The mode  is calculated using `numpy.unique`.\n",
      "    In NumPy versions 1.21 and after, all NaNs - even those with different\n",
      "    binary representations - are treated as equivalent and counted as separate\n",
      "    instances of the same value.\n",
      "    \n",
      "    By convention, the mode of an empty array is NaN, and the associated count\n",
      "    is zero.\n",
      "    \n",
      "    Beginning in SciPy 1.9, ``np.matrix`` inputs (not recommended for new\n",
      "    code) are converted to ``np.ndarray`` before the calculation is performed. In\n",
      "    this case, the output will be a scalar or ``np.ndarray`` of appropriate shape\n",
      "    rather than a 2D ``np.matrix``. Similarly, while masked elements of masked\n",
      "    arrays are ignored, the output will be a scalar or ``np.ndarray`` rather than a\n",
      "    masked array with ``mask=False``.\n",
      "    \n",
      "    Examples\n",
      "    --------\n",
      "    >>> import numpy as np\n",
      "    >>> a = np.array([[3, 0, 3, 7],\n",
      "    ...               [3, 2, 6, 2],\n",
      "    ...               [1, 7, 2, 8],\n",
      "    ...               [3, 0, 6, 1],\n",
      "    ...               [3, 2, 5, 5]])\n",
      "    >>> from scipy import stats\n",
      "    >>> stats.mode(a, keepdims=True)\n",
      "    ModeResult(mode=array([[3, 0, 6, 1]]), count=array([[4, 2, 2, 1]]))\n",
      "    \n",
      "    To get mode of whole array, specify ``axis=None``:\n",
      "    \n",
      "    >>> stats.mode(a, axis=None, keepdims=True)\n",
      "    ModeResult(mode=[[3]], count=[[5]])\n",
      "    >>> stats.mode(a, axis=None, keepdims=False)\n",
      "    ModeResult(mode=3, count=5)\n",
      "\n"
     ]
    }
   ],
   "source": [
    "#dir(stats)\n",
    "help(stats.mode)"
   ]
  },
  {
   "cell_type": "code",
   "execution_count": 10,
   "id": "08a55833",
   "metadata": {},
   "outputs": [
    {
     "name": "stdout",
     "output_type": "stream",
     "text": [
      "ModeResult(mode=array([[3, 0, 6, 1]], dtype=int64), count=array([[4, 2, 2, 1]], dtype=int64))\n",
      "ModeResult(mode=3, count=5)\n"
     ]
    }
   ],
   "source": [
    "import numpy as np\n",
    "a = np.array([[3, 0, 3, 7],\n",
    "               [3, 2, 6, 2],\n",
    "               [1, 7, 2, 8],\n",
    "               [3, 0, 6, 1],\n",
    "               [3, 2, 5, 5]])\n",
    "from scipy import stats\n",
    "x1 = stats.mode(a, keepdims=True)\n",
    "print(x1)\n",
    "x2 = stats.mode(a,axis=None)\n",
    "print(x2)"
   ]
  },
  {
   "cell_type": "code",
   "execution_count": 24,
   "id": "998602fb",
   "metadata": {},
   "outputs": [
    {
     "name": "stdout",
     "output_type": "stream",
     "text": [
      "Help on function linregress in module scipy.stats._stats_mstats_common:\n",
      "\n",
      "linregress(x, y=None, alternative='two-sided')\n",
      "    Calculate a linear least-squares regression for two sets of measurements.\n",
      "    \n",
      "    Parameters\n",
      "    ----------\n",
      "    x, y : array_like\n",
      "        Two sets of measurements.  Both arrays should have the same length.  If\n",
      "        only `x` is given (and ``y=None``), then it must be a two-dimensional\n",
      "        array where one dimension has length 2.  The two sets of measurements\n",
      "        are then found by splitting the array along the length-2 dimension. In\n",
      "        the case where ``y=None`` and `x` is a 2x2 array, ``linregress(x)`` is\n",
      "        equivalent to ``linregress(x[0], x[1])``.\n",
      "    alternative : {'two-sided', 'less', 'greater'}, optional\n",
      "        Defines the alternative hypothesis. Default is 'two-sided'.\n",
      "        The following options are available:\n",
      "    \n",
      "        * 'two-sided': the slope of the regression line is nonzero\n",
      "        * 'less': the slope of the regression line is less than zero\n",
      "        * 'greater':  the slope of the regression line is greater than zero\n",
      "    \n",
      "        .. versionadded:: 1.7.0\n",
      "    \n",
      "    Returns\n",
      "    -------\n",
      "    result : ``LinregressResult`` instance\n",
      "        The return value is an object with the following attributes:\n",
      "    \n",
      "        slope : float\n",
      "            Slope of the regression line.\n",
      "        intercept : float\n",
      "            Intercept of the regression line.\n",
      "        rvalue : float\n",
      "            The Pearson correlation coefficient. The square of ``rvalue``\n",
      "            is equal to the coefficient of determination.\n",
      "        pvalue : float\n",
      "            The p-value for a hypothesis test whose null hypothesis is\n",
      "            that the slope is zero, using Wald Test with t-distribution of\n",
      "            the test statistic. See `alternative` above for alternative\n",
      "            hypotheses.\n",
      "        stderr : float\n",
      "            Standard error of the estimated slope (gradient), under the\n",
      "            assumption of residual normality.\n",
      "        intercept_stderr : float\n",
      "            Standard error of the estimated intercept, under the assumption\n",
      "            of residual normality.\n",
      "    \n",
      "    See Also\n",
      "    --------\n",
      "    scipy.optimize.curve_fit :\n",
      "        Use non-linear least squares to fit a function to data.\n",
      "    scipy.optimize.leastsq :\n",
      "        Minimize the sum of squares of a set of equations.\n",
      "    \n",
      "    Notes\n",
      "    -----\n",
      "    Missing values are considered pair-wise: if a value is missing in `x`,\n",
      "    the corresponding value in `y` is masked.\n",
      "    \n",
      "    For compatibility with older versions of SciPy, the return value acts\n",
      "    like a ``namedtuple`` of length 5, with fields ``slope``, ``intercept``,\n",
      "    ``rvalue``, ``pvalue`` and ``stderr``, so one can continue to write::\n",
      "    \n",
      "        slope, intercept, r, p, se = linregress(x, y)\n",
      "    \n",
      "    With that style, however, the standard error of the intercept is not\n",
      "    available.  To have access to all the computed values, including the\n",
      "    standard error of the intercept, use the return value as an object\n",
      "    with attributes, e.g.::\n",
      "    \n",
      "        result = linregress(x, y)\n",
      "        print(result.intercept, result.intercept_stderr)\n",
      "    \n",
      "    Examples\n",
      "    --------\n",
      "    >>> import numpy as np\n",
      "    >>> import matplotlib.pyplot as plt\n",
      "    >>> from scipy import stats\n",
      "    >>> rng = np.random.default_rng()\n",
      "    \n",
      "    Generate some data:\n",
      "    \n",
      "    >>> x = rng.random(10)\n",
      "    >>> y = 1.6*x + rng.random(10)\n",
      "    \n",
      "    Perform the linear regression:\n",
      "    \n",
      "    >>> res = stats.linregress(x, y)\n",
      "    \n",
      "    Coefficient of determination (R-squared):\n",
      "    \n",
      "    >>> print(f\"R-squared: {res.rvalue**2:.6f}\")\n",
      "    R-squared: 0.717533\n",
      "    \n",
      "    Plot the data along with the fitted line:\n",
      "    \n",
      "    >>> plt.plot(x, y, 'o', label='original data')\n",
      "    >>> plt.plot(x, res.intercept + res.slope*x, 'r', label='fitted line')\n",
      "    >>> plt.legend()\n",
      "    >>> plt.show()\n",
      "    \n",
      "    Calculate 95% confidence interval on slope and intercept:\n",
      "    \n",
      "    >>> # Two-sided inverse Students t-distribution\n",
      "    >>> # p - probability, df - degrees of freedom\n",
      "    >>> from scipy.stats import t\n",
      "    >>> tinv = lambda p, df: abs(t.ppf(p/2, df))\n",
      "    \n",
      "    >>> ts = tinv(0.05, len(x)-2)\n",
      "    >>> print(f\"slope (95%): {res.slope:.6f} +/- {ts*res.stderr:.6f}\")\n",
      "    slope (95%): 1.453392 +/- 0.743465\n",
      "    >>> print(f\"intercept (95%): {res.intercept:.6f}\"\n",
      "    ...       f\" +/- {ts*res.intercept_stderr:.6f}\")\n",
      "    intercept (95%): 0.616950 +/- 0.544475\n",
      "\n"
     ]
    }
   ],
   "source": [
    "import matplotlib.pyplot as plt\n",
    "from scipy import stats\n",
    "help(stats.linregress)"
   ]
  },
  {
   "cell_type": "code",
   "execution_count": 30,
   "id": "f95fabe8",
   "metadata": {
    "scrolled": false
   },
   "outputs": [
    {
     "name": "stdout",
     "output_type": "stream",
     "text": [
      "slope: -1.7512877115526118 \n",
      "intercept: 103.10596026490066 \n",
      "r:  -0.758591524376155 \n",
      "p: 0.0026468739224561064 \n",
      "std_err: 0.453536157607742\n",
      "[94.3495217071376, 90.84694628403238, 89.09565857247976, 90.84694628403238, 99.60338484179543, 73.33406916850626, 99.60338484179543, 87.34437086092716, 96.10080941869022, 83.84179543782193, 82.09050772626932, 87.34437086092716, 92.59823399558499]\n"
     ]
    },
    {
     "data": {
      "image/png": "[encoded data removed]",
      "text/plain": [
       "<Figure size 640x480 with 1 Axes>"
      ]
     },
     "metadata": {},
     "output_type": "display_data"
    }
   ],
   "source": [
    "import matplotlib.pyplot as plt\n",
    "from scipy import stats\n",
    "\n",
    "x = [5,7,8,7,2,17,2,9,4,11,12,9,6]\n",
    "y = [99,86,87,88,111,86,103,87,94,78,77,85,86]\n",
    "\n",
    "slope, intercept, r, p, std_err = stats.linregress(x, y)\n",
    "print('slope:' , slope,'\\nintercept:' , intercept, '\\nr: ' , r,'\\np:', p, '\\nstd_err:' , std_err)\n",
    "\n",
    "def myfunc(x):\n",
    "  return slope * x + intercept\n",
    "\n",
    "mymodel = list(map(myfunc, x))\n",
    "print(mymodel)\n",
    "\n",
    "plt.scatter(x, y)\n",
    "plt.plot(x, mymodel)\n",
    "plt.show()\n",
    "#Two  lines to make our compiler able to draw:\n",
    "#plt.savefig(sys.stdout.buffer)\n",
    "#sys.stdout.flush()"
   ]
  },
  {
   "cell_type": "code",
   "execution_count": 13,
   "id": "94a07ac8",
   "metadata": {},
   "outputs": [
    {
     "name": "stdout",
     "output_type": "stream",
     "text": [
      "slope:\n",
      " -1.7512877115526118\n",
      "intercept:\n",
      " 103.10596026490066\n"
     ]
    }
   ],
   "source": [
    "print(\"slope:\\n\",slope);\n",
    "print(\"intercept:\\n\", intercept)"
   ]
  },
  {
   "cell_type": "code",
   "execution_count": 15,
   "id": "5d3d31c5",
   "metadata": {},
   "outputs": [
    {
     "name": "stdout",
     "output_type": "stream",
     "text": [
      "[94.3495217071376, 90.84694628403238, 89.09565857247976, 90.84694628403238, 99.60338484179543, 73.33406916850626, 99.60338484179543, 87.34437086092716, 96.10080941869022, 83.84179543782193, 82.09050772626932, 87.34437086092716, 92.59823399558499]\n",
      "<map object at 0x00000177CDDA3A90>\n"
     ]
    }
   ],
   "source": [
    "print(mymodel)\n",
    "print(map(myfunc, x))"
   ]
  },
  {
   "cell_type": "code",
   "execution_count": 20,
   "id": "f2602cc8",
   "metadata": {},
   "outputs": [
    {
     "data": {
      "image/png": "[encoded data removed]",
      "text/plain": [
       "<Figure size 640x480 with 1 Axes>"
      ]
     },
     "metadata": {},
     "output_type": "display_data"
    }
   ],
   "source": [
    "import numpy\n",
    "import matplotlib.pyplot as plt\n",
    "\n",
    "x = [1,2,3,5,6,7,8,9,10,12,13,14,15,16,18,19,21,22]\n",
    "y = [100,90,80,60,60,55,60,65,70,70,75,76,78,79,90,99,99,100]\n",
    "\n",
    "mymodel = numpy.poly1d(numpy.polyfit(x, y, 3))\n",
    "\n",
    "myline = numpy.linspace(1, 22, 100)\n",
    "\n",
    "plt.scatter(x, y)\n",
    "plt.plot(myline, mymodel(myline))\n",
    "plt.show()"
   ]
  },
  {
   "cell_type": "code",
   "execution_count": null,
   "id": "f1451bf3",
   "metadata": {},
   "outputs": [],
   "source": []
  }
 ],
 "metadata": {
  "kernelspec": {
   "display_name": "Python 3 (ipykernel)",
   "language": "python",
   "name": "python3"
  },
  "language_info": {
   "codemirror_mode": {
    "name": "ipython",
    "version": 3
   },
   "file_extension": ".py",
   "mimetype": "text/x-python",
   "name": "python",
   "nbconvert_exporter": "python",
   "pygments_lexer": "ipython3",
   "version": "3.11.5"
  },
  "widgets": {
   "application/vnd.jupyter.widget-state+json": {
    "state": {},
    "version_major": 2,
    "version_minor": 0
   }
  }
 },
 "nbformat": 4,
 "nbformat_minor": 5
}
